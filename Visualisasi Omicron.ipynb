{
 "cells": [
  {
   "cell_type": "markdown",
   "id": "582b9a4e-48bd-4a87-9dee-9e5c6e72eccc",
   "metadata": {},
   "source": [
    "**Simple Exploratory Data Analysis (EDA)**"
   ]
  },
  {
   "cell_type": "markdown",
   "id": "9ec1033b-f5b1-470e-8c89-39b4aeb23b6d",
   "metadata": {},
   "source": [
    "Import Module"
   ]
  },
  {
   "cell_type": "code",
   "execution_count": 1,
   "id": "e708da84-b3de-4b08-8b2c-e91a41da9e77",
   "metadata": {},
   "outputs": [],
   "source": [
    "import pandas as pd "
   ]
  },
  {
   "cell_type": "code",
   "execution_count": 2,
   "id": "1a169ffb-6422-45b0-bb57-3e59d377b477",
   "metadata": {},
   "outputs": [
    {
     "data": {
      "text/html": [
       "<div>\n",
       "<style scoped>\n",
       "    .dataframe tbody tr th:only-of-type {\n",
       "        vertical-align: middle;\n",
       "    }\n",
       "\n",
       "    .dataframe tbody tr th {\n",
       "        vertical-align: top;\n",
       "    }\n",
       "\n",
       "    .dataframe thead th {\n",
       "        text-align: right;\n",
       "    }\n",
       "</style>\n",
       "<table border=\"1\" class=\"dataframe\">\n",
       "  <thead>\n",
       "    <tr style=\"text-align: right;\">\n",
       "      <th></th>\n",
       "      <th>Entity</th>\n",
       "      <th>Code</th>\n",
       "      <th>Day</th>\n",
       "      <th>Omicron_percentage</th>\n",
       "    </tr>\n",
       "  </thead>\n",
       "  <tbody>\n",
       "    <tr>\n",
       "      <th>0</th>\n",
       "      <td>Angola</td>\n",
       "      <td>AGO</td>\n",
       "      <td>2021-09-20</td>\n",
       "      <td>0.0</td>\n",
       "    </tr>\n",
       "    <tr>\n",
       "      <th>1</th>\n",
       "      <td>Angola</td>\n",
       "      <td>AGO</td>\n",
       "      <td>2021-10-04</td>\n",
       "      <td>0.0</td>\n",
       "    </tr>\n",
       "    <tr>\n",
       "      <th>2</th>\n",
       "      <td>Argentina</td>\n",
       "      <td>ARG</td>\n",
       "      <td>2021-09-20</td>\n",
       "      <td>0.0</td>\n",
       "    </tr>\n",
       "    <tr>\n",
       "      <th>3</th>\n",
       "      <td>Argentina</td>\n",
       "      <td>ARG</td>\n",
       "      <td>2021-10-04</td>\n",
       "      <td>0.0</td>\n",
       "    </tr>\n",
       "    <tr>\n",
       "      <th>4</th>\n",
       "      <td>Argentina</td>\n",
       "      <td>ARG</td>\n",
       "      <td>2021-10-18</td>\n",
       "      <td>0.0</td>\n",
       "    </tr>\n",
       "  </tbody>\n",
       "</table>\n",
       "</div>"
      ],
      "text/plain": [
       "      Entity Code         Day  Omicron_percentage\n",
       "0     Angola  AGO  2021-09-20                 0.0\n",
       "1     Angola  AGO  2021-10-04                 0.0\n",
       "2  Argentina  ARG  2021-09-20                 0.0\n",
       "3  Argentina  ARG  2021-10-04                 0.0\n",
       "4  Argentina  ARG  2021-10-18                 0.0"
      ]
     },
     "execution_count": 2,
     "metadata": {},
     "output_type": "execute_result"
    }
   ],
   "source": [
    "cron = pd.read_csv('./covid-cases-omicron.csv') # memuat/meload dataset dari csv menjadi data frame\n",
    "cron.head() # Menampilkan 5 baris pertama"
   ]
  },
  {
   "cell_type": "code",
   "execution_count": 3,
   "id": "0b411d77-2ffd-41f6-a8bc-0ef665fe6063",
   "metadata": {},
   "outputs": [
    {
     "data": {
      "text/plain": [
       "(552, 4)"
      ]
     },
     "execution_count": 3,
     "metadata": {},
     "output_type": "execute_result"
    }
   ],
   "source": [
    "cron.shape # mengetahui baris,kolom"
   ]
  },
  {
   "cell_type": "code",
   "execution_count": 4,
   "id": "d8226c2e-4b6e-4cd5-997c-631e4d21d07f",
   "metadata": {},
   "outputs": [
    {
     "data": {
      "text/plain": [
       "Index(['Entity', 'Code', 'Day', 'Omicron_percentage'], dtype='object')"
      ]
     },
     "execution_count": 4,
     "metadata": {},
     "output_type": "execute_result"
    }
   ],
   "source": [
    "cron.columns # daftar nama setiap kolom"
   ]
  },
  {
   "cell_type": "code",
   "execution_count": 5,
   "id": "fa32c99d-8c1d-46e8-beba-0f3aae1e4974",
   "metadata": {},
   "outputs": [
    {
     "data": {
      "text/plain": [
       "Entity                 object\n",
       "Code                   object\n",
       "Day                    object\n",
       "Omicron_percentage    float64\n",
       "dtype: object"
      ]
     },
     "execution_count": 5,
     "metadata": {},
     "output_type": "execute_result"
    }
   ],
   "source": [
    "cron.dtypes # menentukan tipe data tiap kolom"
   ]
  },
  {
   "cell_type": "code",
   "execution_count": 6,
   "id": "9f2d8df8-7eba-40ef-b929-6d478dd84e75",
   "metadata": {},
   "outputs": [
    {
     "data": {
      "text/plain": [
       "False"
      ]
     },
     "execution_count": 6,
     "metadata": {},
     "output_type": "execute_result"
    }
   ],
   "source": [
    "cron.isna().values.any() # mendeteksi nilai kosong /missing value"
   ]
  },
  {
   "cell_type": "code",
   "execution_count": 7,
   "id": "36b1d63a-b5ff-4df7-aa44-f92e3ca7c719",
   "metadata": {},
   "outputs": [
    {
     "data": {
      "text/html": [
       "<div>\n",
       "<style scoped>\n",
       "    .dataframe tbody tr th:only-of-type {\n",
       "        vertical-align: middle;\n",
       "    }\n",
       "\n",
       "    .dataframe tbody tr th {\n",
       "        vertical-align: top;\n",
       "    }\n",
       "\n",
       "    .dataframe thead th {\n",
       "        text-align: right;\n",
       "    }\n",
       "</style>\n",
       "<table border=\"1\" class=\"dataframe\">\n",
       "  <thead>\n",
       "    <tr style=\"text-align: right;\">\n",
       "      <th></th>\n",
       "      <th>Entity</th>\n",
       "      <th>Code</th>\n",
       "      <th>Day</th>\n",
       "      <th>Omicron_percentage</th>\n",
       "    </tr>\n",
       "  </thead>\n",
       "  <tbody>\n",
       "  </tbody>\n",
       "</table>\n",
       "</div>"
      ],
      "text/plain": [
       "Empty DataFrame\n",
       "Columns: [Entity, Code, Day, Omicron_percentage]\n",
       "Index: []"
      ]
     },
     "execution_count": 7,
     "metadata": {},
     "output_type": "execute_result"
    }
   ],
   "source": [
    "cron[cron.duplicated(keep=False)] # mencari dan menampilkan data yg duplikat atau double"
   ]
  },
  {
   "cell_type": "code",
   "execution_count": 8,
   "id": "137a8da9-4316-4c63-a761-198e8d4ae78f",
   "metadata": {},
   "outputs": [
    {
     "data": {
      "text/html": [
       "<div>\n",
       "<style scoped>\n",
       "    .dataframe tbody tr th:only-of-type {\n",
       "        vertical-align: middle;\n",
       "    }\n",
       "\n",
       "    .dataframe tbody tr th {\n",
       "        vertical-align: top;\n",
       "    }\n",
       "\n",
       "    .dataframe thead th {\n",
       "        text-align: right;\n",
       "    }\n",
       "</style>\n",
       "<table border=\"1\" class=\"dataframe\">\n",
       "  <thead>\n",
       "    <tr style=\"text-align: right;\">\n",
       "      <th></th>\n",
       "      <th>Omicron_percentage</th>\n",
       "    </tr>\n",
       "  </thead>\n",
       "  <tbody>\n",
       "    <tr>\n",
       "      <th>count</th>\n",
       "      <td>552.000000</td>\n",
       "    </tr>\n",
       "    <tr>\n",
       "      <th>mean</th>\n",
       "      <td>5.925054</td>\n",
       "    </tr>\n",
       "    <tr>\n",
       "      <th>std</th>\n",
       "      <td>17.723560</td>\n",
       "    </tr>\n",
       "    <tr>\n",
       "      <th>min</th>\n",
       "      <td>0.000000</td>\n",
       "    </tr>\n",
       "    <tr>\n",
       "      <th>25%</th>\n",
       "      <td>0.000000</td>\n",
       "    </tr>\n",
       "    <tr>\n",
       "      <th>50%</th>\n",
       "      <td>0.000000</td>\n",
       "    </tr>\n",
       "    <tr>\n",
       "      <th>75%</th>\n",
       "      <td>0.152500</td>\n",
       "    </tr>\n",
       "    <tr>\n",
       "      <th>max</th>\n",
       "      <td>100.000000</td>\n",
       "    </tr>\n",
       "  </tbody>\n",
       "</table>\n",
       "</div>"
      ],
      "text/plain": [
       "       Omicron_percentage\n",
       "count          552.000000\n",
       "mean             5.925054\n",
       "std             17.723560\n",
       "min              0.000000\n",
       "25%              0.000000\n",
       "50%              0.000000\n",
       "75%              0.152500\n",
       "max            100.000000"
      ]
     },
     "execution_count": 8,
     "metadata": {},
     "output_type": "execute_result"
    }
   ],
   "source": [
    "cron.describe() # mendeskripsikan data"
   ]
  },
  {
   "cell_type": "code",
   "execution_count": 9,
   "id": "41a5c011-32a9-4833-92f3-9c76905a755f",
   "metadata": {},
   "outputs": [
    {
     "data": {
      "text/html": [
       "<div>\n",
       "<style scoped>\n",
       "    .dataframe tbody tr th:only-of-type {\n",
       "        vertical-align: middle;\n",
       "    }\n",
       "\n",
       "    .dataframe tbody tr th {\n",
       "        vertical-align: top;\n",
       "    }\n",
       "\n",
       "    .dataframe thead th {\n",
       "        text-align: right;\n",
       "    }\n",
       "</style>\n",
       "<table border=\"1\" class=\"dataframe\">\n",
       "  <thead>\n",
       "    <tr style=\"text-align: right;\">\n",
       "      <th></th>\n",
       "      <th>Omicron_percentage</th>\n",
       "    </tr>\n",
       "  </thead>\n",
       "  <tbody>\n",
       "    <tr>\n",
       "      <th>Omicron_percentage</th>\n",
       "      <td>1.0</td>\n",
       "    </tr>\n",
       "  </tbody>\n",
       "</table>\n",
       "</div>"
      ],
      "text/plain": [
       "                    Omicron_percentage\n",
       "Omicron_percentage                 1.0"
      ]
     },
     "execution_count": 9,
     "metadata": {},
     "output_type": "execute_result"
    }
   ],
   "source": [
    "cron.corr() # correlation matrix/ korelasi antar kolom"
   ]
  },
  {
   "cell_type": "markdown",
   "id": "372006d1-3545-4d6b-b653-6ef24f6336e1",
   "metadata": {},
   "source": [
    "**Data Visualitation**"
   ]
  },
  {
   "cell_type": "code",
   "execution_count": 10,
   "id": "d654f343-d0b7-487b-897d-71ddc890e432",
   "metadata": {},
   "outputs": [],
   "source": [
    "import matplotlib.pyplot as plt\n",
    "import seaborn as sns\n",
    "# mengimport module untuk memvisualisasikan data\n",
    "# untuk menampilkan visualisasi ke notebook\n",
    "%matplotlib inline "
   ]
  },
  {
   "cell_type": "markdown",
   "id": "5b09b3cb-9886-42c8-a765-d30e72dfee8f",
   "metadata": {},
   "source": [
    "Barplot"
   ]
  },
  {
   "cell_type": "code",
   "execution_count": 11,
   "id": "7014bf62-ff31-4576-894d-99126ec504bd",
   "metadata": {},
   "outputs": [
    {
     "data": {
      "text/plain": [
       "United Kingdom        9\n",
       "France                9\n",
       "Belgium               9\n",
       "Poland                9\n",
       "United States         9\n",
       "                     ..\n",
       "Kuwait                1\n",
       "Kazakhstan            1\n",
       "Egypt                 1\n",
       "Dominican Republic    1\n",
       "Zambia                1\n",
       "Name: Entity, Length: 89, dtype: int64"
      ]
     },
     "execution_count": 11,
     "metadata": {},
     "output_type": "execute_result"
    }
   ],
   "source": [
    "cron['Entity'].value_counts() # Menghitung Jumlah yang terkena Omiccron tiap negara"
   ]
  },
  {
   "cell_type": "code",
   "execution_count": 12,
   "id": "bc4ac8d5-3f94-4009-8623-ce0c94449be7",
   "metadata": {},
   "outputs": [
    {
     "data": {
      "image/png": "[encoded data removed]",
      "text/plain": [
       "<Figure size 432x288 with 1 Axes>"
      ]
     },
     "metadata": {
      "needs_background": "light"
     },
     "output_type": "display_data"
    }
   ],
   "source": [
    "cron['Entity'].value_counts().plot.bar()\n",
    "plt.tight_layout()\n",
    "plt.show()\n",
    "# visualisasi dengan matplotlib"
   ]
  },
  {
   "cell_type": "code",
   "execution_count": 13,
   "id": "da5826b1-3aef-4849-9aa5-c7c112348592",
   "metadata": {},
   "outputs": [
    {
     "data": {
      "image/png": "[encoded data removed]",
      "text/plain": [
       "<Figure size 432x288 with 1 Axes>"
      ]
     },
     "metadata": {
      "needs_background": "light"
     },
     "output_type": "display_data"
    }
   ],
   "source": [
    "sns.countplot(data=cron, x='Entity')\n",
    "plt.tight_layout()\n",
    "# visualisasi dengan seaborn"
   ]
  },
  {
   "cell_type": "markdown",
   "id": "675ffcf6-2b11-4c9f-8416-6b9188c1d1dd",
   "metadata": {},
   "source": [
    "Line Plot"
   ]
  },
  {
   "cell_type": "code",
   "execution_count": 14,
   "id": "eecc669d-58b7-4aae-b4d3-4ecc96c1e923",
   "metadata": {},
   "outputs": [
    {
     "data": {
      "image/png": "[encoded data removed]",
      "text/plain": [
       "<Figure size 432x288 with 1 Axes>"
      ]
     },
     "metadata": {
      "needs_background": "light"
     },
     "output_type": "display_data"
    }
   ],
   "source": [
    "cron.plot()\n",
    "plt.tight_layout()"
   ]
  },
  {
   "cell_type": "code",
   "execution_count": 15,
   "id": "4cc2062a-d570-4bdc-9430-36691a6c8cda",
   "metadata": {},
   "outputs": [],
   "source": [
    "cron = cron.dropna()"
   ]
  },
  {
   "cell_type": "code",
   "execution_count": 16,
   "id": "7e2cbd73-4482-4ca4-ac68-365fb87e1b1e",
   "metadata": {},
   "outputs": [
    {
     "data": {
      "text/plain": [
       "0        0.0\n",
       "1        0.0\n",
       "2        0.0\n",
       "3        0.0\n",
       "4        0.0\n",
       "       ...  \n",
       "547      0.0\n",
       "548      0.0\n",
       "549      0.0\n",
       "550      2.0\n",
       "551    100.0\n",
       "Name: Omicron_percentage, Length: 552, dtype: float64"
      ]
     },
     "execution_count": 16,
     "metadata": {},
     "output_type": "execute_result"
    }
   ],
   "source": [
    "y = cron['Omicron_percentage']\n",
    "y"
   ]
  },
  {
   "cell_type": "code",
   "execution_count": 17,
   "id": "d63f6638-1eb8-441e-8fea-c72e4ff280d5",
   "metadata": {},
   "outputs": [
    {
     "data": {
      "text/html": [
       "<div>\n",
       "<style scoped>\n",
       "    .dataframe tbody tr th:only-of-type {\n",
       "        vertical-align: middle;\n",
       "    }\n",
       "\n",
       "    .dataframe tbody tr th {\n",
       "        vertical-align: top;\n",
       "    }\n",
       "\n",
       "    .dataframe thead th {\n",
       "        text-align: right;\n",
       "    }\n",
       "</style>\n",
       "<table border=\"1\" class=\"dataframe\">\n",
       "  <thead>\n",
       "    <tr style=\"text-align: right;\">\n",
       "      <th></th>\n",
       "      <th>Omicron_percentage</th>\n",
       "    </tr>\n",
       "  </thead>\n",
       "  <tbody>\n",
       "    <tr>\n",
       "      <th>0</th>\n",
       "      <td>0.0</td>\n",
       "    </tr>\n",
       "    <tr>\n",
       "      <th>1</th>\n",
       "      <td>0.0</td>\n",
       "    </tr>\n",
       "    <tr>\n",
       "      <th>2</th>\n",
       "      <td>0.0</td>\n",
       "    </tr>\n",
       "    <tr>\n",
       "      <th>3</th>\n",
       "      <td>0.0</td>\n",
       "    </tr>\n",
       "    <tr>\n",
       "      <th>4</th>\n",
       "      <td>0.0</td>\n",
       "    </tr>\n",
       "    <tr>\n",
       "      <th>...</th>\n",
       "      <td>...</td>\n",
       "    </tr>\n",
       "    <tr>\n",
       "      <th>547</th>\n",
       "      <td>0.0</td>\n",
       "    </tr>\n",
       "    <tr>\n",
       "      <th>548</th>\n",
       "      <td>0.0</td>\n",
       "    </tr>\n",
       "    <tr>\n",
       "      <th>549</th>\n",
       "      <td>0.0</td>\n",
       "    </tr>\n",
       "    <tr>\n",
       "      <th>550</th>\n",
       "      <td>2.0</td>\n",
       "    </tr>\n",
       "    <tr>\n",
       "      <th>551</th>\n",
       "      <td>100.0</td>\n",
       "    </tr>\n",
       "  </tbody>\n",
       "</table>\n",
       "<p>552 rows × 1 columns</p>\n",
       "</div>"
      ],
      "text/plain": [
       "     Omicron_percentage\n",
       "0                   0.0\n",
       "1                   0.0\n",
       "2                   0.0\n",
       "3                   0.0\n",
       "4                   0.0\n",
       "..                  ...\n",
       "547                 0.0\n",
       "548                 0.0\n",
       "549                 0.0\n",
       "550                 2.0\n",
       "551               100.0\n",
       "\n",
       "[552 rows x 1 columns]"
      ]
     },
     "execution_count": 17,
     "metadata": {},
     "output_type": "execute_result"
    }
   ],
   "source": [
    "features = ['Omicron_percentage']\n",
    "X = cron[features]\n",
    "X"
   ]
  },
  {
   "cell_type": "code",
   "execution_count": 18,
   "id": "0d06c876-de57-4cc0-b254-d80c15be4a1a",
   "metadata": {},
   "outputs": [
    {
     "data": {
      "text/html": [
       "<div>\n",
       "<style scoped>\n",
       "    .dataframe tbody tr th:only-of-type {\n",
       "        vertical-align: middle;\n",
       "    }\n",
       "\n",
       "    .dataframe tbody tr th {\n",
       "        vertical-align: top;\n",
       "    }\n",
       "\n",
       "    .dataframe thead th {\n",
       "        text-align: right;\n",
       "    }\n",
       "</style>\n",
       "<table border=\"1\" class=\"dataframe\">\n",
       "  <thead>\n",
       "    <tr style=\"text-align: right;\">\n",
       "      <th></th>\n",
       "      <th>Omicron_percentage</th>\n",
       "    </tr>\n",
       "  </thead>\n",
       "  <tbody>\n",
       "    <tr>\n",
       "      <th>count</th>\n",
       "      <td>552.000000</td>\n",
       "    </tr>\n",
       "    <tr>\n",
       "      <th>mean</th>\n",
       "      <td>5.925054</td>\n",
       "    </tr>\n",
       "    <tr>\n",
       "      <th>std</th>\n",
       "      <td>17.723560</td>\n",
       "    </tr>\n",
       "    <tr>\n",
       "      <th>min</th>\n",
       "      <td>0.000000</td>\n",
       "    </tr>\n",
       "    <tr>\n",
       "      <th>25%</th>\n",
       "      <td>0.000000</td>\n",
       "    </tr>\n",
       "    <tr>\n",
       "      <th>50%</th>\n",
       "      <td>0.000000</td>\n",
       "    </tr>\n",
       "    <tr>\n",
       "      <th>75%</th>\n",
       "      <td>0.152500</td>\n",
       "    </tr>\n",
       "    <tr>\n",
       "      <th>max</th>\n",
       "      <td>100.000000</td>\n",
       "    </tr>\n",
       "  </tbody>\n",
       "</table>\n",
       "</div>"
      ],
      "text/plain": [
       "       Omicron_percentage\n",
       "count          552.000000\n",
       "mean             5.925054\n",
       "std             17.723560\n",
       "min              0.000000\n",
       "25%              0.000000\n",
       "50%              0.000000\n",
       "75%              0.152500\n",
       "max            100.000000"
      ]
     },
     "execution_count": 18,
     "metadata": {},
     "output_type": "execute_result"
    }
   ],
   "source": [
    "X.describe()"
   ]
  },
  {
   "cell_type": "code",
   "execution_count": 19,
   "id": "cb6ff80d-8e6c-455b-b7ac-93637270454e",
   "metadata": {},
   "outputs": [],
   "source": [
    "from sklearn.tree import DecisionTreeRegressor\n"
   ]
  },
  {
   "cell_type": "code",
   "execution_count": 20,
   "id": "53a047bd-cc15-4244-9bd7-0d7683891192",
   "metadata": {},
   "outputs": [],
   "source": [
    "cron = DecisionTreeRegressor(random_state=1)"
   ]
  },
  {
   "cell_type": "code",
   "execution_count": 21,
   "id": "8ffc7c55-661c-4076-aaef-b54550b692c5",
   "metadata": {},
   "outputs": [
    {
     "data": {
      "text/plain": [
       "DecisionTreeRegressor(random_state=1)"
      ]
     },
     "execution_count": 21,
     "metadata": {},
     "output_type": "execute_result"
    }
   ],
   "source": [
    "cron.fit(X, y)"
   ]
  },
  {
   "cell_type": "code",
   "execution_count": 22,
   "id": "ee24df6e-6b69-4fb7-b119-12b0c1797a57",
   "metadata": {},
   "outputs": [
    {
     "data": {
      "text/plain": [
       "array([0., 0., 0., 0., 0.])"
      ]
     },
     "execution_count": 22,
     "metadata": {},
     "output_type": "execute_result"
    }
   ],
   "source": [
    "cron.predict(X.head())"
   ]
  },
  {
   "cell_type": "code",
   "execution_count": 23,
   "id": "735fb4a6-e2a5-4d0c-a57a-a98a27f96f9e",
   "metadata": {},
   "outputs": [
    {
     "data": {
      "text/html": [
       "<div>\n",
       "<style scoped>\n",
       "    .dataframe tbody tr th:only-of-type {\n",
       "        vertical-align: middle;\n",
       "    }\n",
       "\n",
       "    .dataframe tbody tr th {\n",
       "        vertical-align: top;\n",
       "    }\n",
       "\n",
       "    .dataframe thead th {\n",
       "        text-align: right;\n",
       "    }\n",
       "</style>\n",
       "<table border=\"1\" class=\"dataframe\">\n",
       "  <thead>\n",
       "    <tr style=\"text-align: right;\">\n",
       "      <th></th>\n",
       "      <th>Omicron_percentage</th>\n",
       "    </tr>\n",
       "  </thead>\n",
       "  <tbody>\n",
       "    <tr>\n",
       "      <th>0</th>\n",
       "      <td>0.0</td>\n",
       "    </tr>\n",
       "    <tr>\n",
       "      <th>1</th>\n",
       "      <td>0.0</td>\n",
       "    </tr>\n",
       "    <tr>\n",
       "      <th>2</th>\n",
       "      <td>0.0</td>\n",
       "    </tr>\n",
       "    <tr>\n",
       "      <th>3</th>\n",
       "      <td>0.0</td>\n",
       "    </tr>\n",
       "    <tr>\n",
       "      <th>4</th>\n",
       "      <td>0.0</td>\n",
       "    </tr>\n",
       "  </tbody>\n",
       "</table>\n",
       "</div>"
      ],
      "text/plain": [
       "   Omicron_percentage\n",
       "0                 0.0\n",
       "1                 0.0\n",
       "2                 0.0\n",
       "3                 0.0\n",
       "4                 0.0"
      ]
     },
     "execution_count": 23,
     "metadata": {},
     "output_type": "execute_result"
    }
   ],
   "source": [
    "X.head()"
   ]
  },
  {
   "cell_type": "code",
   "execution_count": 24,
   "id": "ba6db046-6435-4178-bc3f-0ac7a9d14f83",
   "metadata": {},
   "outputs": [
    {
     "data": {
      "text/plain": [
       "0    0.0\n",
       "1    0.0\n",
       "2    0.0\n",
       "3    0.0\n",
       "4    0.0\n",
       "Name: Omicron_percentage, dtype: float64"
      ]
     },
     "execution_count": 24,
     "metadata": {},
     "output_type": "execute_result"
    }
   ],
   "source": [
    "y.head()"
   ]
  },
  {
   "cell_type": "code",
   "execution_count": 25,
   "id": "c09924fe-56aa-4add-9991-b7c1a147c39a",
   "metadata": {},
   "outputs": [
    {
     "name": "stdout",
     "output_type": "stream",
     "text": [
      "5\n",
      "0\n",
      "3\n",
      "3\n",
      "7\n",
      "9\n",
      "3\n",
      "5\n",
      "2\n",
      "4\n"
     ]
    }
   ],
   "source": [
    "import numpy as np\n",
    "np.random.seed(0)\n",
    "\n",
    "for _ in range(10):\n",
    "    print(np.random.randint(10))"
   ]
  },
  {
   "cell_type": "markdown",
   "id": "8a7b2e19-0464-4964-ad0f-034a153bf893",
   "metadata": {},
   "source": [
    "**Evaluasi mode**"
   ]
  },
  {
   "cell_type": "code",
   "execution_count": 26,
   "id": "49ad1e03-0b80-44c6-ba13-a32fcf7a3d4b",
   "metadata": {},
   "outputs": [],
   "source": [
    "from sklearn.metrics import mean_absolute_error\n"
   ]
  },
  {
   "cell_type": "code",
   "execution_count": 27,
   "id": "f672b7d5-1109-4204-8957-6414fc94fdd3",
   "metadata": {},
   "outputs": [
    {
     "data": {
      "text/plain": [
       "0.0"
      ]
     },
     "execution_count": 27,
     "metadata": {},
     "output_type": "execute_result"
    }
   ],
   "source": [
    "\n",
    "omi = cron.predict(X) \n",
    "mean_absolute_error(y, omi)"
   ]
  },
  {
   "cell_type": "markdown",
   "id": "6992431f-acb7-4e05-813a-8c20f1ae3b34",
   "metadata": {},
   "source": [
    "Training dan Testing dataset"
   ]
  },
  {
   "cell_type": "code",
   "execution_count": 28,
   "id": "2f11cb5f-2b76-4926-ae2a-5ea7f191ba9e",
   "metadata": {},
   "outputs": [],
   "source": [
    "from sklearn.model_selection import train_test_split"
   ]
  },
  {
   "cell_type": "code",
   "execution_count": 29,
   "id": "6b08499d-8e0d-46c8-996c-97df5b5e8ee9",
   "metadata": {},
   "outputs": [],
   "source": [
    "X_train, X_test, y_train, y_test = train_test_split(X, y, random_state=1, train_size=0.7)"
   ]
  },
  {
   "cell_type": "code",
   "execution_count": 30,
   "id": "c091ad21-558c-40fa-b2ec-d6a21c568366",
   "metadata": {},
   "outputs": [
    {
     "data": {
      "text/plain": [
       "DecisionTreeRegressor(random_state=1)"
      ]
     },
     "execution_count": 30,
     "metadata": {},
     "output_type": "execute_result"
    }
   ],
   "source": [
    "cron = DecisionTreeRegressor(random_state=1) # konfigurasi dan training model\n",
    "cron.fit(X_train, y_train)"
   ]
  },
  {
   "cell_type": "code",
   "execution_count": 31,
   "id": "bbd64b18-b58d-4f60-97c5-969cee2765bb",
   "metadata": {},
   "outputs": [
    {
     "data": {
      "text/plain": [
       "0.11957831325301199"
      ]
     },
     "execution_count": 31,
     "metadata": {},
     "output_type": "execute_result"
    }
   ],
   "source": [
    "omi = cron.predict(X_test) # Evaluasi model\n",
    "mean_absolute_error(y_test, omi)"
   ]
  },
  {
   "cell_type": "markdown",
   "id": "162f3441-61fc-4f00-8653-947020d9ab44",
   "metadata": {},
   "source": [
    "**Optimasi Model**"
   ]
  },
  {
   "cell_type": "code",
   "execution_count": 32,
   "id": "8b508924-e296-4e51-bf0b-86ac6b2312fe",
   "metadata": {},
   "outputs": [],
   "source": [
    "def get_mae(max_leaf_nodes, X_train, X_test, y_train, y_test):\n",
    "    model = DecisionTreeRegressor(max_leaf_nodes=max_leaf_nodes, random_state=0)\n",
    "    model.fit(X_train, y_train)\n",
    "    omi = model.predict(X_test)\n",
    "    mae = mean_absolute_error(y_test, omi)\n",
    "    return mae"
   ]
  },
  {
   "cell_type": "markdown",
   "id": "ee621278-1613-44b5-bab8-6b8c8e31801a",
   "metadata": {},
   "source": [
    "Membandingkan MAE dengan beberapa nilai max_leaf_nodes untuk menemukan jumlah leaf paling optimum"
   ]
  },
  {
   "cell_type": "code",
   "execution_count": 33,
   "id": "4e2c5dc4-ab83-4298-bfc7-9f7c22a7ca57",
   "metadata": {},
   "outputs": [
    {
     "name": "stdout",
     "output_type": "stream",
     "text": [
      "Max leaf nodes: 5 \t Mean Absolute Error: 1\n",
      "Max leaf nodes: 50 \t Mean Absolute Error: 0\n",
      "Max leaf nodes: 500 \t Mean Absolute Error: 0\n",
      "Max leaf nodes: 5000 \t Mean Absolute Error: 0\n"
     ]
    }
   ],
   "source": [
    "for max_leaf_nodes in [5, 50, 500, 5000]:\n",
    "    leaf_mae = get_mae(max_leaf_nodes, X_train, X_test, y_train, y_test)\n",
    "    print(f'Max leaf nodes: {max_leaf_nodes} \\t Mean Absolute Error: {int(leaf_mae)}')"
   ]
  },
  {
   "cell_type": "markdown",
   "id": "ef6acd76-3068-4f8e-a618-170742bfd2f9",
   "metadata": {},
   "source": [
    "**Ekplorasi dengan Random Forrest** </br>\n",
    "Membangun machine learning model dengan Random Forrest Regressor"
   ]
  },
  {
   "cell_type": "code",
   "execution_count": 34,
   "id": "59e2be36-5b1a-47ee-b18b-03d65100ee23",
   "metadata": {},
   "outputs": [],
   "source": [
    "from sklearn.ensemble import RandomForestRegressor"
   ]
  },
  {
   "cell_type": "code",
   "execution_count": 35,
   "id": "99b2b58b-d4da-4566-bcee-e0779b0955ad",
   "metadata": {},
   "outputs": [
    {
     "name": "stdout",
     "output_type": "stream",
     "text": [
      "Mean Absolute Error: 0\n"
     ]
    }
   ],
   "source": [
    "rfr = RandomForestRegressor(n_estimators=100, random_state=1)\n",
    "rfr.fit(X_train, y_train)\n",
    "omi = rfr.predict(X_test)\n",
    "print(f'Mean Absolute Error: {int(mean_absolute_error(y_test, omi))}')"
   ]
  }
 ],
 "metadata": {
  "kernelspec": {
   "display_name": "Python 3",
   "language": "python",
   "name": "python3"
  },
  "language_info": {
   "codemirror_mode": {
    "name": "ipython",
    "version": 3
   },
   "file_extension": ".py",
   "mimetype": "text/x-python",
   "name": "python",
   "nbconvert_exporter": "python",
   "pygments_lexer": "ipython3",
   "version": "3.9.5"
  }
 },
 "nbformat": 4,
 "nbformat_minor": 5
}
